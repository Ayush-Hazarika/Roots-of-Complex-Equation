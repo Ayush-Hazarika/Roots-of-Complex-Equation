{
 "cells": [
  {
   "cell_type": "code",
   "execution_count": 12,
   "id": "07748734-2a43-4deb-b8ca-6148d1fa358d",
   "metadata": {
    "tags": []
   },
   "outputs": [],
   "source": [
    "import numpy as np\n",
    "import sympy as sp\n",
    "from sympy import solveset\n",
    "from sympy import I, symbols, re, im"
   ]
  },
  {
   "cell_type": "code",
   "execution_count": 14,
   "id": "c22bb7b5-da0a-4841-8da7-ffb0556cc730",
   "metadata": {
    "tags": []
   },
   "outputs": [],
   "source": [
    "# Define symbols\n",
    "k, R, Lambda, Omega, beta, c, rho_o, Gamma, T_o, tau_m, tau_J, gamma, L =sp.symbols('k R lambda_J Omega beta c rho_o Gamma T_o tau_m tau_J gamma L', real=True)\n",
    "\n",
    "# Define the complex expression\n",
    "expr = (-I * beta * k**2 * Omega) / (c * Lambda * (1/R + I * k) * rho_o) - (3 * I * beta * Omega) / (c * Lambda * R**2 * (1/R + I * k) * rho_o) + \\\n",
    "       (gamma * k * Lambda**2 * R**4 * Omega * tau_m * T_o) / (tau_J * (L**2 * (k * R - 3 * I) * (k * R + I)**3 + Lambda**2 * R**2 * (k * R + 3 * I) * (k * R + I))) + \\\n",
    "       (I * gamma * Lambda**2 * R**3 * Omega * tau_m * T_o) / (tau_J * (L**2 * (k * R - 3 * I) * (k * R + I)**3 + Lambda**2 * R**2 * (k * R + 3 * I) * (k * R + I))) + \\\n",
    "       (k * Lambda**2 * R**4 * Omega * tau_m) / (tau_J * (L**2 * (k * R - 3 * I) * (k * R + I)**3 + Lambda**2 * R**2 * (k * R + 3 * I) * (k * R + I))) + \\\n",
    "       (I * Lambda**2 * R**3 * Omega * tau_m) / (tau_J * (L**2 * (k * R - 3 * I) * (k * R + I)**3 + Lambda**2 * R**2 * (k * R + 3 * I) * (k * R + I))) - \\\n",
    "       (k * Omega * tau_m) / (Gamma * tau_J) + (I * Omega**3 * tau_m) / (tau_J * (1/R + I * k)) - (I * Omega * tau_m) / (Gamma * R * tau_J) - I * k / Gamma + \\\n",
    "       (I * gamma * k * Lambda**2 * R**4 * T_o) / (L**2 * (k * R - 3 * I) * (k * R + I)**3 + Lambda**2 * R**2 * (k * R + 3 * I) * (k * R + I)) - \\\n",
    "       (gamma * Lambda**2 * R**3 * T_o) / (L**2 * (k * R - 3 * I) * (k * R + I)**3 + Lambda**2 * R**2 * (k * R + 3 * I) * (k * R + I)) + \\\n",
    "       (I * k * Lambda**2 * R**4) / (L**2 * (k * R - 3 * I) * (k * R + I)**3 + Lambda**2 * R**2 * (k * R + 3 * I) * (k * R + I)) - \\\n",
    "       (Lambda**2 * R**3) / (L**2 * (k * R - 3 * I) * (k * R + I)**3 + Lambda**2 * R**2 * (k * R + 3 * I) * (k * R + I)) - \\\n",
    "       (Omega**2) / (1/R + I * k) + 1 / (Gamma * R)"
   ]
  },
  {
   "cell_type": "code",
   "execution_count": 16,
   "id": "6fceb1f3-39a4-4f5d-83b4-a16720326a5b",
   "metadata": {
    "tags": []
   },
   "outputs": [
    {
     "data": {
      "text/latex": [
       "$\\displaystyle \\frac{i \\Omega^{3} \\tau_{m}}{\\tau_{J} \\left(i k + \\frac{1}{R}\\right)} - \\frac{\\Omega^{2}}{i k + \\frac{1}{R}} + \\frac{\\Omega R^{4} T_{o} \\gamma k \\lambda_{J}^{2} \\tau_{m}}{\\tau_{J} \\left(L^{2} \\left(R k - 3 i\\right) \\left(R k + i\\right)^{3} + R^{2} \\lambda_{J}^{2} \\left(R k + i\\right) \\left(R k + 3 i\\right)\\right)} + \\frac{\\Omega R^{4} k \\lambda_{J}^{2} \\tau_{m}}{\\tau_{J} \\left(L^{2} \\left(R k - 3 i\\right) \\left(R k + i\\right)^{3} + R^{2} \\lambda_{J}^{2} \\left(R k + i\\right) \\left(R k + 3 i\\right)\\right)} + \\frac{i \\Omega R^{3} T_{o} \\gamma \\lambda_{J}^{2} \\tau_{m}}{\\tau_{J} \\left(L^{2} \\left(R k - 3 i\\right) \\left(R k + i\\right)^{3} + R^{2} \\lambda_{J}^{2} \\left(R k + i\\right) \\left(R k + 3 i\\right)\\right)} + \\frac{i \\Omega R^{3} \\lambda_{J}^{2} \\tau_{m}}{\\tau_{J} \\left(L^{2} \\left(R k - 3 i\\right) \\left(R k + i\\right)^{3} + R^{2} \\lambda_{J}^{2} \\left(R k + i\\right) \\left(R k + 3 i\\right)\\right)} - \\frac{i \\Omega \\beta k^{2}}{c \\lambda_{J} \\rho_{o} \\left(i k + \\frac{1}{R}\\right)} - \\frac{3 i \\Omega \\beta}{R^{2} c \\lambda_{J} \\rho_{o} \\left(i k + \\frac{1}{R}\\right)} + \\frac{i R^{4} T_{o} \\gamma k \\lambda_{J}^{2}}{L^{2} \\left(R k - 3 i\\right) \\left(R k + i\\right)^{3} + R^{2} \\lambda_{J}^{2} \\left(R k + i\\right) \\left(R k + 3 i\\right)} + \\frac{i R^{4} k \\lambda_{J}^{2}}{L^{2} \\left(R k - 3 i\\right) \\left(R k + i\\right)^{3} + R^{2} \\lambda_{J}^{2} \\left(R k + i\\right) \\left(R k + 3 i\\right)} - \\frac{R^{3} T_{o} \\gamma \\lambda_{J}^{2}}{L^{2} \\left(R k - 3 i\\right) \\left(R k + i\\right)^{3} + R^{2} \\lambda_{J}^{2} \\left(R k + i\\right) \\left(R k + 3 i\\right)} - \\frac{R^{3} \\lambda_{J}^{2}}{L^{2} \\left(R k - 3 i\\right) \\left(R k + i\\right)^{3} + R^{2} \\lambda_{J}^{2} \\left(R k + i\\right) \\left(R k + 3 i\\right)} - \\frac{\\Omega k \\tau_{m}}{\\Gamma \\tau_{J}} - \\frac{i \\Omega \\tau_{m}}{\\Gamma R \\tau_{J}} - \\frac{i k}{\\Gamma} + \\frac{1}{\\Gamma R}$"
      ],
      "text/plain": [
       "I*Omega**3*tau_m/(tau_J*(I*k + 1/R)) - Omega**2/(I*k + 1/R) + Omega*R**4*T_o*gamma*k*lambda_J**2*tau_m/(tau_J*(L**2*(R*k - 3*I)*(R*k + I)**3 + R**2*lambda_J**2*(R*k + I)*(R*k + 3*I))) + Omega*R**4*k*lambda_J**2*tau_m/(tau_J*(L**2*(R*k - 3*I)*(R*k + I)**3 + R**2*lambda_J**2*(R*k + I)*(R*k + 3*I))) + I*Omega*R**3*T_o*gamma*lambda_J**2*tau_m/(tau_J*(L**2*(R*k - 3*I)*(R*k + I)**3 + R**2*lambda_J**2*(R*k + I)*(R*k + 3*I))) + I*Omega*R**3*lambda_J**2*tau_m/(tau_J*(L**2*(R*k - 3*I)*(R*k + I)**3 + R**2*lambda_J**2*(R*k + I)*(R*k + 3*I))) - I*Omega*beta*k**2/(c*lambda_J*rho_o*(I*k + 1/R)) - 3*I*Omega*beta/(R**2*c*lambda_J*rho_o*(I*k + 1/R)) + I*R**4*T_o*gamma*k*lambda_J**2/(L**2*(R*k - 3*I)*(R*k + I)**3 + R**2*lambda_J**2*(R*k + I)*(R*k + 3*I)) + I*R**4*k*lambda_J**2/(L**2*(R*k - 3*I)*(R*k + I)**3 + R**2*lambda_J**2*(R*k + I)*(R*k + 3*I)) - R**3*T_o*gamma*lambda_J**2/(L**2*(R*k - 3*I)*(R*k + I)**3 + R**2*lambda_J**2*(R*k + I)*(R*k + 3*I)) - R**3*lambda_J**2/(L**2*(R*k - 3*I)*(R*k + I)**3 + R**2*lambda_J**2*(R*k + I)*(R*k + 3*I)) - Omega*k*tau_m/(Gamma*tau_J) - I*Omega*tau_m/(Gamma*R*tau_J) - I*k/Gamma + 1/(Gamma*R)"
      ]
     },
     "execution_count": 16,
     "metadata": {},
     "output_type": "execute_result"
    }
   ],
   "source": [
    "expr"
   ]
  },
  {
   "cell_type": "code",
   "execution_count": 11,
   "id": "28e31cac-ac61-40a3-ac65-736b7d72491d",
   "metadata": {
    "tags": []
   },
   "outputs": [
    {
     "data": {
      "text/latex": [
       "$\\displaystyle \\frac{i \\tau_{m}}{\\tau_{J} \\left(i k + \\frac{1}{R}\\right)}$"
      ],
      "text/plain": [
       "I*tau_m/(tau_J*(I*k + 1/R))"
      ]
     },
     "execution_count": 11,
     "metadata": {},
     "output_type": "execute_result"
    }
   ],
   "source": [
    "A3 = expr.coeff(Omega**3)\n",
    "A3"
   ]
  },
  {
   "cell_type": "code",
   "execution_count": 13,
   "id": "8799003f-0d0d-4d0e-a87c-4cf90ed04a0c",
   "metadata": {
    "tags": []
   },
   "outputs": [
    {
     "data": {
      "text/latex": [
       "$\\displaystyle - \\frac{1}{i k + \\frac{1}{R}}$"
      ],
      "text/plain": [
       "-1/(I*k + 1/R)"
      ]
     },
     "execution_count": 13,
     "metadata": {},
     "output_type": "execute_result"
    }
   ],
   "source": [
    "A2 = expr.coeff(Omega**2)\n",
    "A2"
   ]
  },
  {
   "cell_type": "code",
   "execution_count": 15,
   "id": "973f97aa-d030-48e7-9ada-7ce73f033c81",
   "metadata": {
    "tags": []
   },
   "outputs": [
    {
     "data": {
      "text/latex": [
       "$\\displaystyle \\frac{R^{4} T_{o} \\gamma k \\lambda_{J}^{2} \\tau_{m}}{\\tau_{J} \\left(L^{2} \\left(R k - 3 i\\right) \\left(R k + i\\right)^{3} + R^{2} \\lambda_{J}^{2} \\left(R k + i\\right) \\left(R k + 3 i\\right)\\right)} + \\frac{R^{4} k \\lambda_{J}^{2} \\tau_{m}}{\\tau_{J} \\left(L^{2} \\left(R k - 3 i\\right) \\left(R k + i\\right)^{3} + R^{2} \\lambda_{J}^{2} \\left(R k + i\\right) \\left(R k + 3 i\\right)\\right)} + \\frac{i R^{3} T_{o} \\gamma \\lambda_{J}^{2} \\tau_{m}}{\\tau_{J} \\left(L^{2} \\left(R k - 3 i\\right) \\left(R k + i\\right)^{3} + R^{2} \\lambda_{J}^{2} \\left(R k + i\\right) \\left(R k + 3 i\\right)\\right)} + \\frac{i R^{3} \\lambda_{J}^{2} \\tau_{m}}{\\tau_{J} \\left(L^{2} \\left(R k - 3 i\\right) \\left(R k + i\\right)^{3} + R^{2} \\lambda_{J}^{2} \\left(R k + i\\right) \\left(R k + 3 i\\right)\\right)} - \\frac{i \\beta k^{2}}{c \\lambda_{J} \\rho_{o} \\left(i k + \\frac{1}{R}\\right)} - \\frac{3 i \\beta}{R^{2} c \\lambda_{J} \\rho_{o} \\left(i k + \\frac{1}{R}\\right)} - \\frac{k \\tau_{m}}{\\Gamma \\tau_{J}} - \\frac{i \\tau_{m}}{\\Gamma R \\tau_{J}}$"
      ],
      "text/plain": [
       "R**4*T_o*gamma*k*lambda_J**2*tau_m/(tau_J*(L**2*(R*k - 3*I)*(R*k + I)**3 + R**2*lambda_J**2*(R*k + I)*(R*k + 3*I))) + R**4*k*lambda_J**2*tau_m/(tau_J*(L**2*(R*k - 3*I)*(R*k + I)**3 + R**2*lambda_J**2*(R*k + I)*(R*k + 3*I))) + I*R**3*T_o*gamma*lambda_J**2*tau_m/(tau_J*(L**2*(R*k - 3*I)*(R*k + I)**3 + R**2*lambda_J**2*(R*k + I)*(R*k + 3*I))) + I*R**3*lambda_J**2*tau_m/(tau_J*(L**2*(R*k - 3*I)*(R*k + I)**3 + R**2*lambda_J**2*(R*k + I)*(R*k + 3*I))) - I*beta*k**2/(c*lambda_J*rho_o*(I*k + 1/R)) - 3*I*beta/(R**2*c*lambda_J*rho_o*(I*k + 1/R)) - k*tau_m/(Gamma*tau_J) - I*tau_m/(Gamma*R*tau_J)"
      ]
     },
     "execution_count": 15,
     "metadata": {},
     "output_type": "execute_result"
    }
   ],
   "source": [
    "A1 = expr.coeff(Omega**1)\n",
    "A1"
   ]
  },
  {
   "cell_type": "code",
   "execution_count": 17,
   "id": "055861c1-a825-4b56-b880-2bae23ce9cae",
   "metadata": {
    "tags": []
   },
   "outputs": [
    {
     "data": {
      "text/latex": [
       "$\\displaystyle \\frac{i R^{4} T_{o} \\gamma k \\lambda_{J}^{2}}{L^{2} \\left(R k - 3 i\\right) \\left(R k + i\\right)^{3} + R^{2} \\lambda_{J}^{2} \\left(R k + i\\right) \\left(R k + 3 i\\right)} + \\frac{i R^{4} k \\lambda_{J}^{2}}{L^{2} \\left(R k - 3 i\\right) \\left(R k + i\\right)^{3} + R^{2} \\lambda_{J}^{2} \\left(R k + i\\right) \\left(R k + 3 i\\right)} - \\frac{R^{3} T_{o} \\gamma \\lambda_{J}^{2}}{L^{2} \\left(R k - 3 i\\right) \\left(R k + i\\right)^{3} + R^{2} \\lambda_{J}^{2} \\left(R k + i\\right) \\left(R k + 3 i\\right)} - \\frac{R^{3} \\lambda_{J}^{2}}{L^{2} \\left(R k - 3 i\\right) \\left(R k + i\\right)^{3} + R^{2} \\lambda_{J}^{2} \\left(R k + i\\right) \\left(R k + 3 i\\right)} - \\frac{i k}{\\Gamma} + \\frac{1}{\\Gamma R}$"
      ],
      "text/plain": [
       "I*R**4*T_o*gamma*k*lambda_J**2/(L**2*(R*k - 3*I)*(R*k + I)**3 + R**2*lambda_J**2*(R*k + I)*(R*k + 3*I)) + I*R**4*k*lambda_J**2/(L**2*(R*k - 3*I)*(R*k + I)**3 + R**2*lambda_J**2*(R*k + I)*(R*k + 3*I)) - R**3*T_o*gamma*lambda_J**2/(L**2*(R*k - 3*I)*(R*k + I)**3 + R**2*lambda_J**2*(R*k + I)*(R*k + 3*I)) - R**3*lambda_J**2/(L**2*(R*k - 3*I)*(R*k + I)**3 + R**2*lambda_J**2*(R*k + I)*(R*k + 3*I)) - I*k/Gamma + 1/(Gamma*R)"
      ]
     },
     "execution_count": 17,
     "metadata": {},
     "output_type": "execute_result"
    }
   ],
   "source": [
    "constant = expr.subs({Omega: 0, Omega**3: 0, Omega**2: 0})\n",
    "constant"
   ]
  },
  {
   "cell_type": "markdown",
   "id": "c5591780-04fb-4571-8ea3-8f12692622d4",
   "metadata": {},
   "source": [
    "## Solving Roots"
   ]
  },
  {
   "cell_type": "markdown",
   "id": "cee4d150-3292-4d31-bdf2-aea4e04a07b1",
   "metadata": {},
   "source": [
    "Root 1"
   ]
  },
  {
   "cell_type": "code",
   "execution_count": null,
   "id": "4dca3bc9-625a-4fff-891d-a7cd50fbffdb",
   "metadata": {
    "tags": []
   },
   "outputs": [],
   "source": [
    "root1 = sp.solve(expr,Omega,dict=True, simplify=False)[0]"
   ]
  },
  {
   "cell_type": "code",
   "execution_count": null,
   "id": "6365c481-92a6-4c1b-97e2-504648376117",
   "metadata": {
    "tags": []
   },
   "outputs": [],
   "source": [
    "real1=sp.re(root1)"
   ]
  },
  {
   "cell_type": "code",
   "execution_count": null,
   "id": "e1ebc7be-6c69-43e0-b679-c132bdcc339c",
   "metadata": {
    "tags": []
   },
   "outputs": [],
   "source": [
    "img1=sp.im(root1)"
   ]
  },
  {
   "cell_type": "markdown",
   "id": "fb371664-e1a5-4245-8dad-6228cf1c76c6",
   "metadata": {
    "tags": []
   },
   "source": [
    "Root 2"
   ]
  },
  {
   "cell_type": "code",
   "execution_count": null,
   "id": "1ad890f9-50fd-424a-945e-523420dbc6f8",
   "metadata": {
    "tags": []
   },
   "outputs": [],
   "source": [
    "root2 = sp.solve(expr,Omega)[1]"
   ]
  },
  {
   "cell_type": "code",
   "execution_count": null,
   "id": "64b820de-3b41-4cf6-9907-255ad26c9782",
   "metadata": {
    "tags": []
   },
   "outputs": [],
   "source": [
    "real2=sp.re(root2)"
   ]
  },
  {
   "cell_type": "code",
   "execution_count": null,
   "id": "64034c18-1dcf-407b-b099-433eb869e06b",
   "metadata": {
    "tags": []
   },
   "outputs": [],
   "source": [
    "img2=sp.im(root2)"
   ]
  },
  {
   "cell_type": "markdown",
   "id": "21a04fa3-f14b-49db-a4e6-4f56fe144aeb",
   "metadata": {},
   "source": [
    "Root 3"
   ]
  },
  {
   "cell_type": "code",
   "execution_count": null,
   "id": "ecac6868-da80-4d09-98a5-29ed852e4d42",
   "metadata": {
    "tags": []
   },
   "outputs": [],
   "source": [
    "root3 = sp.solve(expr,Omega)[2]"
   ]
  },
  {
   "cell_type": "code",
   "execution_count": null,
   "id": "bf416365-1ea2-4634-af64-1c199cef0b64",
   "metadata": {
    "tags": []
   },
   "outputs": [],
   "source": [
    "real3=sp.re(root3)"
   ]
  },
  {
   "cell_type": "code",
   "execution_count": null,
   "id": "eb0a8f95-0512-4b90-8733-ad3a13650256",
   "metadata": {
    "tags": []
   },
   "outputs": [],
   "source": [
    "img3=sp.im(root3)"
   ]
  }
 ],
 "metadata": {
  "kernelspec": {
   "display_name": "Python 3 (ipykernel)",
   "language": "python",
   "name": "python3"
  },
  "language_info": {
   "codemirror_mode": {
    "name": "ipython",
    "version": 3
   },
   "file_extension": ".py",
   "mimetype": "text/x-python",
   "name": "python",
   "nbconvert_exporter": "python",
   "pygments_lexer": "ipython3",
   "version": "3.11.5"
  }
 },
 "nbformat": 4,
 "nbformat_minor": 5
}
